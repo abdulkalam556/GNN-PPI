{
 "cells": [
  {
   "cell_type": "code",
   "execution_count": 1,
   "id": "2728720b-0b72-400a-b38e-3bc7ed6480d5",
   "metadata": {},
   "outputs": [],
   "source": [
    "from graphein.protein.config import ProteinGraphConfig\n",
    "from graphein.protein.graphs import construct_graph"
   ]
  },
  {
   "cell_type": "code",
   "execution_count": 2,
   "id": "2b0d6bd5-35c1-49db-aa82-d704c4077286",
   "metadata": {},
   "outputs": [],
   "source": [
    "# Path to your local PDB file\n",
    "pdb_path = \"../data/raw/1f8a.pdb\""
   ]
  },
  {
   "cell_type": "code",
   "execution_count": 3,
   "id": "bf5b5066-7a23-4c9c-a275-1e912ee7e266",
   "metadata": {},
   "outputs": [
    {
     "name": "stderr",
     "output_type": "stream",
     "text": [
      "/scratch/local/51179627/ipykernel_1276145/2352068268.py:4: PydanticDeprecatedSince20: The `dict` method is deprecated; use `model_dump` instead. Deprecated in Pydantic V2.0 to be removed in V3.0. See Pydantic V2 Migration Guide at https://errors.pydantic.dev/2.10/migration/\n",
      "  config.dict()\n"
     ]
    },
    {
     "data": {
      "text/plain": [
       "{'granularity': 'CA',\n",
       " 'keep_hets': [],\n",
       " 'insertions': True,\n",
       " 'alt_locs': 'max_occupancy',\n",
       " 'pdb_dir': None,\n",
       " 'verbose': False,\n",
       " 'exclude_waters': True,\n",
       " 'deprotonate': False,\n",
       " 'protein_df_processing_functions': None,\n",
       " 'edge_construction_functions': [<function graphein.protein.edges.distance.add_peptide_bonds(G: 'nx.Graph') -> 'nx.Graph'>],\n",
       " 'node_metadata_functions': [<function graphein.protein.features.nodes.amino_acid.meiler_embedding(n: str, d: Dict[str, Any], return_array: bool = False) -> Union[pandas.core.series.Series, numpy.ndarray]>],\n",
       " 'edge_metadata_functions': None,\n",
       " 'graph_metadata_functions': None,\n",
       " 'get_contacts_config': None,\n",
       " 'dssp_config': None}"
      ]
     },
     "execution_count": 3,
     "metadata": {},
     "output_type": "execute_result"
    }
   ],
   "source": [
    "# Create a protein graph configuration\n",
    "config = ProteinGraphConfig()\n",
    "\n",
    "config.dict()"
   ]
  },
  {
   "cell_type": "code",
   "execution_count": 4,
   "id": "d3e17771-69b4-4d71-8f74-6419325eaffc",
   "metadata": {
    "tags": []
   },
   "outputs": [
    {
     "data": {
      "application/vnd.jupyter.widget-view+json": {
       "model_id": "",
       "version_major": 2,
       "version_minor": 0
      },
      "text/plain": [
       "Output()"
      ]
     },
     "metadata": {},
     "output_type": "display_data"
    },
    {
     "data": {
      "text/html": [
       "<pre style=\"white-space:pre;overflow-x:auto;line-height:normal;font-family:Menlo,'DejaVu Sans Mono',consolas,'Courier New',monospace\"></pre>\n"
      ],
      "text/plain": []
     },
     "metadata": {},
     "output_type": "display_data"
    }
   ],
   "source": [
    "# Construct the residue graph from the PDB file\n",
    "residue_graph = construct_graph(config=config, path=pdb_path, )\n",
    "\n",
    "# Display basic information about the graph\n",
    "# print(f\"Number of nodes: {len(residue_graph.nodes())}\")\n",
    "# print(f\"Number of edges: {len(residue_graph.edges())}\")"
   ]
  },
  {
   "cell_type": "code",
   "execution_count": 5,
   "id": "b134ba27-6209-417f-b7f1-3beebdbd6671",
   "metadata": {
    "tags": []
   },
   "outputs": [],
   "source": [
    "# print(residue_graph.nodes())"
   ]
  },
  {
   "cell_type": "code",
   "execution_count": 6,
   "id": "41612dbb-06d2-46ae-a8ec-351d298df6fd",
   "metadata": {
    "tags": []
   },
   "outputs": [],
   "source": [
    "# print(residue_graph.edges())"
   ]
  },
  {
   "cell_type": "code",
   "execution_count": 7,
   "id": "003b76dd-bc76-4589-a90e-efd3216c4a7b",
   "metadata": {
    "tags": []
   },
   "outputs": [],
   "source": [
    "# Extract the protein sequence\n",
    "# sequence = \"\".join([data[\"residue_name\"] for _, data in residue_graph.nodes(data=True)])\n",
    "\n",
    "# print(\"Protein Sequence:\", sequence)"
   ]
  },
  {
   "cell_type": "code",
   "execution_count": 8,
   "id": "1899dbd8-0005-42bc-aef8-859ddfc0dee8",
   "metadata": {
    "tags": []
   },
   "outputs": [],
   "source": [
    "# len(sequence)"
   ]
  },
  {
   "cell_type": "code",
   "execution_count": 9,
   "id": "a921faba-67d6-4642-b630-956cb38c7274",
   "metadata": {
    "tags": []
   },
   "outputs": [
    {
     "name": "stdout",
     "output_type": "stream",
     "text": [
      "Chains in Graph: {'C', 'B'}\n"
     ]
    }
   ],
   "source": [
    "chains = set(data[\"chain_id\"] for _, data in residue_graph.nodes(data=True))\n",
    "print(\"Chains in Graph:\", chains)"
   ]
  },
  {
   "cell_type": "code",
   "execution_count": 10,
   "id": "1f939db2-55d1-40ab-880b-bb76132d7fee",
   "metadata": {
    "tags": []
   },
   "outputs": [
    {
     "name": "stdout",
     "output_type": "stream",
     "text": [
      "Number of Residues in Graph: 160\n"
     ]
    }
   ],
   "source": [
    "nodes_residues = [data[\"residue_name\"] for _, data in residue_graph.nodes(data=True)]\n",
    "print(f\"Number of Residues in Graph: {len(nodes_residues)}\")\n"
   ]
  },
  {
   "cell_type": "code",
   "execution_count": 11,
   "id": "873518a7-59ec-4392-ab36-39dbe40105fb",
   "metadata": {
    "tags": []
   },
   "outputs": [
    {
     "name": "stdout",
     "output_type": "stream",
     "text": [
      "{'chain_id': 'B', 'residue_name': 'GLY', 'residue_number': 1, 'atom_type': 'CA', 'element_symbol': 'C', 'coords': array([-0.294,  5.819, 75.824], dtype=float32), 'b_factor': 36.13999938964844, 'meiler': dim_1    0.00\n",
      "dim_2    0.00\n",
      "dim_3    0.00\n",
      "dim_4    0.00\n",
      "dim_5    6.07\n",
      "dim_6    0.13\n",
      "dim_7    0.15\n",
      "Name: GLY, dtype: float64}\n"
     ]
    }
   ],
   "source": [
    "for _, data in residue_graph.nodes(data=True):\n",
    "    print(data)\n",
    "    break"
   ]
  },
  {
   "cell_type": "code",
   "execution_count": 12,
   "id": "c98314d4-2c83-4edc-a0db-7c6b444deaf9",
   "metadata": {
    "tags": []
   },
   "outputs": [],
   "source": [
    "import networkx as nx\n",
    "# Create a mapping from original nodes to integers\n",
    "node_mapping = {node: idx for idx, node in enumerate(residue_graph.nodes())}\n",
    "\n",
    "# Relabel the nodes in the graph\n",
    "numeric_graph = nx.relabel_nodes(residue_graph, node_mapping)\n",
    "\n",
    "# # Display the relabeled graph\n",
    "# print(f\"Nodes (numeric): {list(numeric_graph.nodes())}\")\n",
    "# print(f\"Edges: {list(numeric_graph.edges())}\")\n",
    "\n",
    "# # Example: Access original attributes\n",
    "# for node in numeric_graph.nodes():\n",
    "#     original_node = list(node_mapping.keys())[list(node_mapping.values()).index(node)]\n",
    "#     print(f\"Original Node: {original_node}, Attributes: {residue_graph.nodes[original_node]}\")"
   ]
  },
  {
   "cell_type": "code",
   "execution_count": 13,
   "id": "1563b6f0-d46a-4f06-b623-012d93f9fb68",
   "metadata": {
    "tags": []
   },
   "outputs": [],
   "source": [
    "# from torch_geometric.utils import from_networkx\n",
    "# # Step 2: Convert NetworkX graph to PyTorch Geometric Data\n",
    "# data = from_networkx(residue_graph)\n",
    "\n",
    "# # Check the PyTorch Geometric Data object\n",
    "# print(data)"
   ]
  },
  {
   "cell_type": "code",
   "execution_count": 14,
   "id": "d0c9fc08-e8e2-48e0-b23e-ea4ebb0b23ff",
   "metadata": {
    "tags": []
   },
   "outputs": [
    {
     "name": "stdout",
     "output_type": "stream",
     "text": [
      "torch.Size([2, 155])\n",
      "Data(x=[160, 10], edge_index=[2, 155])\n"
     ]
    }
   ],
   "source": [
    "import torch\n",
    "from torch_geometric.data import Data\n",
    "\n",
    "# Assume 'residue_graph' is your NetworkX graph\n",
    "# Create a mapping from node identifiers to numeric indices\n",
    "node_mapping = {node: idx for idx, node in enumerate(residue_graph.nodes())}\n",
    "\n",
    "# Remap edges using the node mapping\n",
    "edge_list = [(node_mapping[u], node_mapping[v]) for u, v in residue_graph.edges()]\n",
    "\n",
    "# Convert edge_list to a tensor\n",
    "edge_index = torch.tensor(edge_list, dtype=torch.long).t().contiguous()\n",
    "\n",
    "print(edge_index.shape)  # Should be [2, num_edges]\n",
    "\n",
    "# Example Node Features (replace with your actual features)\n",
    "num_nodes = len(node_mapping)  # Total number of nodes\n",
    "node_features = torch.rand(num_nodes, 10)  # Example: 10 features per node\n",
    "\n",
    "# Create PyTorch Geometric graph object\n",
    "graph = Data(x=node_features, edge_index=edge_index)\n",
    "\n",
    "print(graph)"
   ]
  },
  {
   "cell_type": "code",
   "execution_count": 15,
   "id": "8c07cab1-d2bc-44fe-93b1-ec16737cfb11",
   "metadata": {
    "tags": []
   },
   "outputs": [],
   "source": [
    "def validate_graph(graph):\n",
    "    try:\n",
    "        # Check if it's a PyTorch Geometric Data object\n",
    "        if not isinstance(graph, Data):\n",
    "            return False, f\"File at is not a PyTorch Geometric Data object.\"\n",
    "\n",
    "        # Check if `x` (node features) exists and is non-empty\n",
    "        if not hasattr(graph, \"x\") or graph.x is None or graph.x.size(0) == 0:\n",
    "            return False, f\"Graph at has no valid node features.\"\n",
    "\n",
    "        # Check if `edge_index` exists and is non-empty\n",
    "        if not hasattr(graph, \"edge_index\") or graph.edge_index is None or graph.edge_index.size(1) == 0:\n",
    "            return False, f\"Graph at has no valid edges.\"\n",
    "\n",
    "        # Check if `edge_index` indices are within the valid range\n",
    "        if graph.edge_index.max() >= graph.x.size(0):\n",
    "            return False, (\n",
    "                f\"Graph at has invalid edges. \"\n",
    "                f\"Max index in edge_index: {graph.edge_index.max()}, Num nodes: {graph.x.size(0)}.\"\n",
    "            )\n",
    "\n",
    "        # Optional: Check if edge_index is symmetric for undirected graphs\n",
    "        if not is_edge_index_symmetric(graph.edge_index):\n",
    "            return False, f\"Graph at has a non-symmetric edge_index for an undirected graph.\"\n",
    "\n",
    "        # Optional: Check if `edge_index` contains duplicate edges\n",
    "        if has_duplicate_edges(graph.edge_index):\n",
    "            return False, f\"Graph at contains duplicate edges.\"\n",
    "\n",
    "        # If all checks pass\n",
    "        return True, f\"Graph at is valid.\"\n",
    "\n",
    "    except Exception as e:\n",
    "        return False, f\"Error loading or validating graph at: {str(e)}\"\n",
    "\n",
    "def is_edge_index_symmetric(edge_index):\n",
    "    # Flip the edge index to get reversed edges\n",
    "    edge_index_flipped = edge_index.flip(0)\n",
    "\n",
    "    # Combine original and flipped edges\n",
    "    combined_edges = torch.cat([edge_index, edge_index_flipped], dim=1)\n",
    "\n",
    "    # Remove duplicate edges\n",
    "    unique_edges = torch.unique(combined_edges, dim=1)\n",
    "\n",
    "    # Check if all edges have their reverses\n",
    "    return unique_edges.size(1) == combined_edges.size(1)\n",
    "\n",
    "\n",
    "def has_duplicate_edges(edge_index):\n",
    "    \"\"\"\n",
    "    Checks if `edge_index` contains duplicate edges.\n",
    "    \n",
    "    Args:\n",
    "        edge_index (Tensor): The edge_index tensor.\n",
    "        \n",
    "    Returns:\n",
    "        bool: True if duplicates exist, False otherwise.\n",
    "    \"\"\"\n",
    "    edges = edge_index.t().tolist()\n",
    "    unique_edges = set(map(tuple, edges))\n",
    "    return len(edges) != len(unique_edges)"
   ]
  },
  {
   "cell_type": "code",
   "execution_count": 16,
   "id": "93889403-9cba-4589-9ffa-90b310a097d7",
   "metadata": {
    "tags": []
   },
   "outputs": [
    {
     "name": "stdout",
     "output_type": "stream",
     "text": [
      "True\n",
      "Graph at is valid.\n"
     ]
    }
   ],
   "source": [
    "is_valid, message = validate_graph(graph)\n",
    "print(is_valid)\n",
    "print(message)"
   ]
  },
  {
   "cell_type": "code",
   "execution_count": 17,
   "id": "9e927532-6cdd-441b-8e62-96c37dfbc452",
   "metadata": {
    "tags": []
   },
   "outputs": [
    {
     "name": "stdout",
     "output_type": "stream",
     "text": [
      "<class 'torch_geometric.data.data.Data'>\n"
     ]
    }
   ],
   "source": [
    "print(type(graph))"
   ]
  },
  {
   "cell_type": "code",
   "execution_count": 18,
   "id": "598be573-15ad-4dc9-9728-d0ae222ea517",
   "metadata": {
    "tags": []
   },
   "outputs": [
    {
     "name": "stdout",
     "output_type": "stream",
     "text": [
      "Graph is directed: False\n"
     ]
    }
   ],
   "source": [
    "print(\"Graph is directed:\", nx.is_directed(residue_graph))"
   ]
  },
  {
   "cell_type": "code",
   "execution_count": 20,
   "id": "63d706bf-fe2a-4ebf-adf1-530f5f9fda9c",
   "metadata": {
    "tags": []
   },
   "outputs": [
    {
     "data": {
      "application/vnd.jupyter.widget-view+json": {
       "model_id": "",
       "version_major": 2,
       "version_minor": 0
      },
      "text/plain": [
       "Output()"
      ]
     },
     "metadata": {},
     "output_type": "display_data"
    },
    {
     "data": {
      "text/html": [
       "<pre style=\"white-space:pre;overflow-x:auto;line-height:normal;font-family:Menlo,'DejaVu Sans Mono',consolas,'Courier New',monospace\"></pre>\n"
      ],
      "text/plain": []
     },
     "metadata": {},
     "output_type": "display_data"
    }
   ],
   "source": [
    "from functools import partial\n",
    "from graphein.protein.features.nodes.amino_acid import amino_acid_one_hot, meiler_embedding, expasy_protein_scale\n",
    "from graphein.protein.edges.distance import add_distance_threshold\n",
    "\n",
    "config = ProteinGraphConfig(\n",
    "        node_metadata_functions=[\n",
    "            amino_acid_one_hot, meiler_embedding, expasy_protein_scale\n",
    "        ],\n",
    "        edge_construction_functions=[\n",
    "            partial(add_distance_threshold, long_interaction_threshold=0)\n",
    "        ]\n",
    "    )\n",
    "\n",
    "# Construct the graph using Graphein\n",
    "graph = construct_graph(config=config, path=pdb_path)\n"
   ]
  },
  {
   "cell_type": "code",
   "execution_count": 27,
   "id": "b2df8eb4-dd59-4f69-bcac-10ef3c1adc8b",
   "metadata": {
    "tags": []
   },
   "outputs": [
    {
     "name": "stdout",
     "output_type": "stream",
     "text": [
      "{'chain_id': 'B', 'residue_name': 'GLY', 'residue_number': 1, 'atom_type': 'CA', 'element_symbol': 'C', 'coords': array([-0.294,  5.819, 75.824], dtype=float32), 'b_factor': 36.13999938964844, 'amino_acid_one_hot': array([0, 0, 0, 0, 0, 1, 0, 0, 0, 0, 0, 0, 0, 0, 0, 0, 0, 0, 0, 0]), 'meiler': dim_1    0.00\n",
      "dim_2    0.00\n",
      "dim_3    0.00\n",
      "dim_4    0.00\n",
      "dim_5    6.07\n",
      "dim_6    0.13\n",
      "dim_7    0.15\n",
      "Name: GLY, dtype: float64, 'expasy': pka_cooh_alpha              2.34\n",
      "pka_nh3                     9.60\n",
      "pka_rgroup                  7.00\n",
      "isoelectric_points          6.06\n",
      "molecularweight            75.00\n",
      "                           ...  \n",
      "antiparallelbeta_strand     0.56\n",
      "parallelbeta_strand         0.79\n",
      "a_a_composition             7.20\n",
      "a_a_swiss_prot              7.07\n",
      "relativemutability         49.00\n",
      "Name: GLY, Length: 61, dtype: float64}\n"
     ]
    }
   ],
   "source": [
    "for _, data in graph.nodes(data=True):\n",
    "    print(data)\n",
    "    break"
   ]
  },
  {
   "cell_type": "code",
   "execution_count": 30,
   "id": "8f2c5722-0807-4703-9fd5-627f8b15f6c9",
   "metadata": {
    "tags": []
   },
   "outputs": [
    {
     "name": "stdout",
     "output_type": "stream",
     "text": [
      "graph type: onehot, node feature shape: torch.Size([160, 20])\n",
      "graph type: physchem, node feature shape: torch.Size([160, 7])\n",
      "graph type: expasy, node feature shape: torch.Size([160, 61])\n"
     ]
    },
    {
     "ename": "NameError",
     "evalue": "name 'embedding_fn' is not defined",
     "output_type": "error",
     "traceback": [
      "\u001b[0;31m---------------------------------------------------------------------------\u001b[0m",
      "\u001b[0;31mNameError\u001b[0m                                 Traceback (most recent call last)",
      "Cell \u001b[0;32mIn[30], line 12\u001b[0m\n\u001b[1;32m     10\u001b[0m \u001b[38;5;28;01melif\u001b[39;00m graph_type \u001b[38;5;241m==\u001b[39m \u001b[38;5;124m\"\u001b[39m\u001b[38;5;124mexpasy\u001b[39m\u001b[38;5;124m\"\u001b[39m:\n\u001b[1;32m     11\u001b[0m     node_features\u001b[38;5;241m.\u001b[39mappend(torch\u001b[38;5;241m.\u001b[39mtensor(data[\u001b[38;5;124m\"\u001b[39m\u001b[38;5;124mexpasy\u001b[39m\u001b[38;5;124m\"\u001b[39m]\u001b[38;5;241m.\u001b[39mvalues, dtype\u001b[38;5;241m=\u001b[39mtorch\u001b[38;5;241m.\u001b[39mfloat))\n\u001b[0;32m---> 12\u001b[0m \u001b[38;5;28;01melif\u001b[39;00m graph_type \u001b[38;5;129;01min\u001b[39;00m [\u001b[38;5;124m\"\u001b[39m\u001b[38;5;124mprotbert\u001b[39m\u001b[38;5;124m\"\u001b[39m, \u001b[38;5;124m\"\u001b[39m\u001b[38;5;124mprostt5\u001b[39m\u001b[38;5;124m\"\u001b[39m] \u001b[38;5;129;01mand\u001b[39;00m \u001b[43membedding_fn\u001b[49m:\n\u001b[1;32m     13\u001b[0m     node_features \u001b[38;5;241m=\u001b[39m torch\u001b[38;5;241m.\u001b[39mtensor(embedding_fn(sequence_single_letter), dtype\u001b[38;5;241m=\u001b[39mtorch\u001b[38;5;241m.\u001b[39mfloat)\n\u001b[1;32m     14\u001b[0m \u001b[38;5;28;01melse\u001b[39;00m:\n",
      "\u001b[0;31mNameError\u001b[0m: name 'embedding_fn' is not defined"
     ]
    }
   ],
   "source": [
    "graph_types = [\"onehot\", \"physchem\", \"expasy\", \"protbert\", \"prostt5\"]\n",
    "\n",
    "for graph_type in graph_types:# Generate node features based on graph type\n",
    "    node_features = []\n",
    "    for _, data in graph.nodes(data=True):\n",
    "        if graph_type == \"onehot\":\n",
    "            node_features.append(torch.tensor(data[\"amino_acid_one_hot\"], dtype=torch.float))\n",
    "        elif graph_type == \"physchem\":\n",
    "            node_features.append(torch.tensor(data[\"meiler\"].values, dtype=torch.float))\n",
    "        elif graph_type == \"expasy\":\n",
    "            node_features.append(torch.tensor(data[\"expasy\"].values, dtype=torch.float))\n",
    "        elif graph_type in [\"protbert\", \"prostt5\"] and embedding_fn:\n",
    "            node_features = torch.tensor(embedding_fn(sequence_single_letter), dtype=torch.float)\n",
    "        else:\n",
    "            raise ValueError(f\"Unknown graph type: {graph_type}\")\n",
    "\n",
    "    # Convert node features to a PyTorch tensor\n",
    "    node_features = torch.stack(node_features)\n",
    "    print(f'graph type: {graph_type}, node feature shape: {node_features.shape}')"
   ]
  },
  {
   "cell_type": "code",
   "execution_count": 14,
   "id": "02d36ccc-fc4d-4af1-9368-c289bb953b56",
   "metadata": {},
   "outputs": [
    {
     "data": {
      "application/vnd.jupyter.widget-view+json": {
       "model_id": "",
       "version_major": 2,
       "version_minor": 0
      },
      "text/plain": [
       "Output()"
      ]
     },
     "metadata": {},
     "output_type": "display_data"
    },
    {
     "data": {
      "text/html": [
       "<pre style=\"white-space:pre;overflow-x:auto;line-height:normal;font-family:Menlo,'DejaVu Sans Mono',consolas,'Courier New',monospace\"></pre>\n"
      ],
      "text/plain": []
     },
     "metadata": {},
     "output_type": "display_data"
    }
   ],
   "source": [
    "from graphein.protein.config import ProteinGraphConfig\n",
    "from graphein.protein.graphs import construct_graph\n",
    "from functools import partial\n",
    "from graphein.protein.features.nodes.amino_acid import amino_acid_one_hot, meiler_embedding, expasy_protein_scale\n",
    "from graphein.protein.edges.distance import add_distance_threshold\n",
    "\n",
    "import torch\n",
    "from torch_geometric.data import Data\n",
    "\n",
    "config = ProteinGraphConfig(\n",
    "        node_metadata_functions=[\n",
    "            amino_acid_one_hot, meiler_embedding, expasy_protein_scale\n",
    "        ],\n",
    "        edge_construction_functions=[\n",
    "            partial(add_distance_threshold, long_interaction_threshold=0)\n",
    "        ]\n",
    "    )\n",
    "\n",
    "deafult_config = ProteinGraphConfig()\n",
    "# Path to your local PDB file\n",
    "pdb_path = \"../../data/raw/2q0z.pdb\"\n",
    "\n",
    "# Construct the graph using Graphein\n",
    "nx_graph = construct_graph(config=deafult_config, path=pdb_path)\n",
    "\n",
    "# Map nodes to numeric indices\n",
    "node_mapping = {node: idx for idx, node in enumerate(nx_graph.nodes())}\n",
    "edge_list = [(node_mapping[u], node_mapping[v]) for u, v in nx_graph.edges()]\n",
    "edge_index = torch.tensor(edge_list, dtype=torch.long).t().contiguous()\n",
    "# # Assuming edge_index is [2, num_edges] and symmetric edges are required\n",
    "# edge_index = torch.cat([edge_index, edge_index.flip(0)], dim=1)\n",
    "\n",
    "# # Remove duplicate edges if they exist\n",
    "# edge_index = torch.unique(edge_index, dim=1)\n",
    "\n",
    "# Example Node Features (replace with your actual features)\n",
    "num_nodes = len(node_mapping)  # Total number of nodes\n",
    "node_features = torch.rand(num_nodes, 10)  # Example: 10 features per node\n",
    "\n",
    "# Create PyTorch Geometric graph\n",
    "graph = Data(x=node_features, edge_index=edge_index)"
   ]
  },
  {
   "cell_type": "code",
   "execution_count": 15,
   "id": "ba750311-37cb-4976-b582-5fde80e1b41d",
   "metadata": {
    "tags": []
   },
   "outputs": [],
   "source": [
    "# Helper Functions\n",
    "def validate_graph(graph, sequence_length=0):\n",
    "    \"\"\"\n",
    "    Validates if a PyTorch Geometric graph is valid.\n",
    "    \"\"\"\n",
    "    \n",
    "    def is_edge_index_symmetric(edge_index):\n",
    "        \"\"\"\n",
    "        Checks if `edge_index` contains non symmetric edges.\n",
    "        \"\"\"\n",
    "        # Flip the edge index to get reversed edges\n",
    "        edge_index_flipped = edge_index.flip(0)\n",
    "\n",
    "        # Combine original and flipped edges\n",
    "        combined_edges = torch.cat([edge_index, edge_index_flipped], dim=1)\n",
    "\n",
    "        # Remove duplicate edges\n",
    "        unique_edges = torch.unique(combined_edges, dim=1)\n",
    "\n",
    "        # Check if all edges have their reverses\n",
    "        return unique_edges.size(1) == edge_index.size(1)\n",
    "\n",
    "\n",
    "    def has_duplicate_edges(edge_index):\n",
    "        \"\"\"\n",
    "        Checks if `edge_index` contains duplicate edges.\n",
    "        \"\"\"\n",
    "        edges = edge_index.t().tolist()\n",
    "        unique_edges = set(map(tuple, edges))\n",
    "        return len(edges) != len(unique_edges)\n",
    "\n",
    "    try:\n",
    "        if not isinstance(graph, Data):\n",
    "            return False, \"Graph is not a torch_geometric.data.data.Data object.\"\n",
    "\n",
    "        if not hasattr(graph, \"x\") or graph.x is None or graph.x.size(0) == 0:\n",
    "            return False, \"Graph has no valid node features.\"\n",
    "\n",
    "        if not hasattr(graph, \"edge_index\") or graph.edge_index is None or graph.edge_index.size(1) == 0:\n",
    "            return False, \"Graph has no valid edges.\"\n",
    "        \n",
    "        # # Validate node feature alignment with sequence length\n",
    "        # if sequence_length != graph.x.size(0):\n",
    "        #     return False, f\"Mismatch between sequence length ({sequence_length}) and node features ({graph.x.size(0)}).\"\n",
    "\n",
    "        if graph.edge_index.max() >= graph.x.size(0):\n",
    "            return False, (\n",
    "                f\"Graph has invalid edges. \"\n",
    "                f\"Max index in edge_index: {graph.edge_index.max()}, Num nodes: {graph.x.size(0)}.\"\n",
    "            )\n",
    "\n",
    "        if not is_edge_index_symmetric(graph.edge_index):\n",
    "            return False, \"Graph has a non-symmetric edge_index for an undirected graph.\"\n",
    "\n",
    "        if has_duplicate_edges(graph.edge_index):\n",
    "            return False, \"Graph contains duplicate edges.\"\n",
    "\n",
    "        # if graph.x.size(0) != sequence_length:\n",
    "        #     return False, (\n",
    "        #         f\"Graph node features do not match sequence length. \"\n",
    "        #         f\"Node features: {graph.x.size(0)}, Sequence length: {sequence_length}.\"\n",
    "        #     )\n",
    "\n",
    "        return True, \"Graph is valid.\"\n",
    "\n",
    "    except Exception as e:\n",
    "        return False, f\"Error validating graph: {str(e)}\""
   ]
  },
  {
   "cell_type": "code",
   "execution_count": 16,
   "id": "becf5ee0-e142-4cac-a137-af127fdd2c88",
   "metadata": {
    "tags": []
   },
   "outputs": [
    {
     "name": "stdout",
     "output_type": "stream",
     "text": [
      "False\n",
      "Graph has a non-symmetric edge_index for an undirected graph.\n"
     ]
    }
   ],
   "source": [
    "is_valid, message = validate_graph(graph)\n",
    "print(is_valid)\n",
    "print(message)"
   ]
  },
  {
   "cell_type": "code",
   "execution_count": 17,
   "id": "510f5e2b-f5af-41fc-ad43-16f163197ca6",
   "metadata": {
    "tags": []
   },
   "outputs": [
    {
     "name": "stdout",
     "output_type": "stream",
     "text": [
      "torch.Size([2, 273])\n"
     ]
    }
   ],
   "source": [
    "print(graph.edge_index.shape)"
   ]
  },
  {
   "cell_type": "code",
   "execution_count": 18,
   "id": "2b70dee8-d468-445e-aee5-95fa99f1914b",
   "metadata": {
    "tags": []
   },
   "outputs": [
    {
     "data": {
      "text/plain": [
       "tensor([[ 0,  1,  2,  3,  4,  5,  6,  7,  8,  9],\n",
       "        [ 1,  2,  3,  4,  5,  6,  7,  8,  9, 10]])"
      ]
     },
     "execution_count": 18,
     "metadata": {},
     "output_type": "execute_result"
    }
   ],
   "source": [
    "graph.edge_index[:,:10]"
   ]
  },
  {
   "cell_type": "code",
   "execution_count": 19,
   "id": "f1ffc806-593f-4305-9a02-74d8d98734c2",
   "metadata": {
    "tags": []
   },
   "outputs": [
    {
     "data": {
      "text/plain": [
       "tensor([[1, 2, 3, 4, 5],\n",
       "        [0, 1, 2, 3, 4]])"
      ]
     },
     "execution_count": 19,
     "metadata": {},
     "output_type": "execute_result"
    }
   ],
   "source": [
    "edge_index_flipped = graph.edge_index.flip(0)\n",
    "edge_index_flipped[:,:5]"
   ]
  },
  {
   "cell_type": "code",
   "execution_count": 20,
   "id": "fd539619-3ed7-4012-82d4-d40e84c2ace3",
   "metadata": {
    "tags": []
   },
   "outputs": [
    {
     "data": {
      "text/plain": [
       "tensor([[0, 1, 2, 3, 4],\n",
       "        [1, 2, 3, 4, 5]])"
      ]
     },
     "execution_count": 20,
     "metadata": {},
     "output_type": "execute_result"
    }
   ],
   "source": [
    "# Combine original and flipped edges\n",
    "combined_edges = torch.cat([edge_index, edge_index_flipped], dim=1)\n",
    "combined_edges[:,:5]"
   ]
  },
  {
   "cell_type": "code",
   "execution_count": 21,
   "id": "fc309b3d-8e7f-41cf-a251-f7e2f0dff1e2",
   "metadata": {
    "tags": []
   },
   "outputs": [
    {
     "data": {
      "text/plain": [
       "tensor([[1, 2, 3, 4, 5],\n",
       "        [0, 1, 2, 3, 4]])"
      ]
     },
     "execution_count": 21,
     "metadata": {},
     "output_type": "execute_result"
    }
   ],
   "source": [
    "combined_edges[:,273:278]"
   ]
  },
  {
   "cell_type": "code",
   "execution_count": 22,
   "id": "e5092960-b3f7-410d-be90-0ae1778a40c1",
   "metadata": {
    "tags": []
   },
   "outputs": [
    {
     "data": {
      "text/plain": [
       "torch.Size([2, 546])"
      ]
     },
     "execution_count": 22,
     "metadata": {},
     "output_type": "execute_result"
    }
   ],
   "source": [
    "# Remove duplicate edges\n",
    "unique_edges = torch.unique(combined_edges, dim=1)\n",
    "unique_edges.shape"
   ]
  },
  {
   "cell_type": "code",
   "execution_count": 11,
   "id": "5e3cc305-b0c8-4064-b6f8-86c2384aa532",
   "metadata": {
    "tags": []
   },
   "outputs": [
    {
     "data": {
      "text/plain": [
       "tensor([[0, 1, 1, 2, 2, 3, 3, 4, 4, 5],\n",
       "        [1, 0, 2, 1, 3, 2, 4, 3, 5, 4]])"
      ]
     },
     "execution_count": 11,
     "metadata": {},
     "output_type": "execute_result"
    }
   ],
   "source": [
    "unique_edges[:,:10]"
   ]
  },
  {
   "cell_type": "code",
   "execution_count": 12,
   "id": "eac5c267-988d-4206-ae3b-91d6e523e87f",
   "metadata": {
    "tags": []
   },
   "outputs": [
    {
     "data": {
      "text/plain": [
       "torch.Size([2, 546])"
      ]
     },
     "execution_count": 12,
     "metadata": {},
     "output_type": "execute_result"
    }
   ],
   "source": [
    "combined_edges.shape"
   ]
  },
  {
   "cell_type": "code",
   "execution_count": 13,
   "id": "273e65ef-3eb2-4533-a6b8-28af13bbe5d2",
   "metadata": {
    "tags": []
   },
   "outputs": [
    {
     "data": {
      "text/plain": [
       "282"
      ]
     },
     "execution_count": 13,
     "metadata": {},
     "output_type": "execute_result"
    }
   ],
   "source": [
    "num_nodes"
   ]
  },
  {
   "cell_type": "code",
   "execution_count": null,
   "id": "97c7a8de-1cc3-446f-b7a4-169e5ce938dd",
   "metadata": {},
   "outputs": [],
   "source": []
  }
 ],
 "metadata": {
  "kernelspec": {
   "display_name": "Python (my_env)",
   "language": "python",
   "name": "my_env"
  },
  "language_info": {
   "codemirror_mode": {
    "name": "ipython",
    "version": 3
   },
   "file_extension": ".py",
   "mimetype": "text/x-python",
   "name": "python",
   "nbconvert_exporter": "python",
   "pygments_lexer": "ipython3",
   "version": "3.10.12"
  }
 },
 "nbformat": 4,
 "nbformat_minor": 5
}
